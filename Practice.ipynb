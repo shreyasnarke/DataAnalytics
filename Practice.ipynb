{
  "nbformat": 4,
  "nbformat_minor": 0,
  "metadata": {
    "colab": {
      "provenance": [],
      "authorship_tag": "ABX9TyMVuxrnkJ/OX1yhKa383FfD",
      "include_colab_link": true
    },
    "kernelspec": {
      "name": "python3",
      "display_name": "Python 3"
    },
    "language_info": {
      "name": "python"
    }
  },
  "cells": [
    {
      "cell_type": "markdown",
      "metadata": {
        "id": "view-in-github",
        "colab_type": "text"
      },
      "source": [
        "<a href=\"https://colab.research.google.com/github/shreyasnarke/DataAnalytics/blob/main/Practice.ipynb\" target=\"_parent\"><img src=\"https://colab.research.google.com/assets/colab-badge.svg\" alt=\"Open In Colab\"/></a>"
      ]
    },
    {
      "cell_type": "code",
      "execution_count": null,
      "metadata": {
        "id": "MCFgs9_5K8CM"
      },
      "outputs": [],
      "source": []
    },
    {
      "cell_type": "markdown",
      "source": [
        "Read The dataset"
      ],
      "metadata": {
        "id": "n3XEwSsh7uvX"
      }
    },
    {
      "cell_type": "code",
      "source": [
        "import pandas as pd\n",
        "import numpy as np\n",
        "#Load a real-world dataset\n",
        "df=pd.read_csv(\"/education.csv\")\n",
        "print(df)"
      ],
      "metadata": {
        "colab": {
          "base_uri": "https://localhost:8080/"
        },
        "id": "-C6ckygoLIZL",
        "outputId": "d6a41765-aa79-40c0-813c-d9a30ac8f782"
      },
      "execution_count": 3,
      "outputs": [
        {
          "output_type": "stream",
          "name": "stdout",
          "text": [
            "     datasrno  workex  gmat\n",
            "0           1      21   720\n",
            "1           2     107   640\n",
            "2           3      57   740\n",
            "3           4      99   690\n",
            "4           5     208   710\n",
            "..        ...     ...   ...\n",
            "768       769      88   620\n",
            "769       770     132   670\n",
            "770       771      28   610\n",
            "771       772      10   610\n",
            "772       773      52   620\n",
            "\n",
            "[773 rows x 3 columns]\n"
          ]
        }
      ]
    }
  ]
}