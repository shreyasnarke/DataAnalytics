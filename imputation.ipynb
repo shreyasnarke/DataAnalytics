{
  "nbformat": 4,
  "nbformat_minor": 0,
  "metadata": {
    "colab": {
      "provenance": [],
      "authorship_tag": "ABX9TyNJ72vPzcDyk+fUWefdMBEf",
      "include_colab_link": true
    },
    "kernelspec": {
      "name": "python3",
      "display_name": "Python 3"
    },
    "language_info": {
      "name": "python"
    }
  },
  "cells": [
    {
      "cell_type": "markdown",
      "metadata": {
        "id": "view-in-github",
        "colab_type": "text"
      },
      "source": [
        "<a href=\"https://colab.research.google.com/github/shreyasnarke/DataAnalytics/blob/main/imputation.ipynb\" target=\"_parent\"><img src=\"https://colab.research.google.com/assets/colab-badge.svg\" alt=\"Open In Colab\"/></a>"
      ]
    },
    {
      "cell_type": "code",
      "execution_count": null,
      "metadata": {
        "id": "MCFgs9_5K8CM"
      },
      "outputs": [],
      "source": []
    },
    {
      "cell_type": "markdown",
      "source": [
        "Read The dataset"
      ],
      "metadata": {
        "id": "n3XEwSsh7uvX"
      }
    },
    {
      "cell_type": "code",
      "source": [
        "import pandas as pd\n",
        "import numpy as np\n",
        "#Load a real-world dataset\n",
        "df=pd.read_csv(\"/education.csv\")\n",
        "df=df.iloc[0:10]\n",
        "print(df)\n",
        "#Read first 5 Rows\n",
        "#print(df.head())\n",
        "#Describe Data\n",
        "#print(df.describe())\n",
        "#find Null Values\n",
        "print(df.isna().sum())"
      ],
      "metadata": {
        "colab": {
          "base_uri": "https://localhost:8080/"
        },
        "id": "-C6ckygoLIZL",
        "outputId": "9d8ce968-cea5-4e4d-d1d7-33d0d5b46860"
      },
      "execution_count": null,
      "outputs": [
        {
          "output_type": "stream",
          "name": "stdout",
          "text": [
            "   datasrno  workex  gmat\n",
            "0         1      21   720\n",
            "1         2     107   640\n",
            "2         3      57   740\n",
            "3         4      99   690\n",
            "4         5     208   710\n",
            "5         6     136   660\n",
            "6         7      70   660\n",
            "7         8     103   710\n",
            "8         9      79   700\n",
            "9        10      22   730\n",
            "datasrno    0\n",
            "workex      0\n",
            "gmat        0\n",
            "dtype: int64\n"
          ]
        }
      ]
    },
    {
      "cell_type": "code",
      "source": [
        "#create a randome mask with the same shape as the original dataset\n",
        "x=np.random.rand(df.shape[0],df.shape[1])\n",
        "print(x)\n",
        "mask=x>0.8\n",
        "print(mask)\n",
        "#Apply the Mask to the original dataset to create missing data\n",
        "df_missing=df.copy()\n",
        "df_missing[mask]=np.nan\n",
        "print(\"original data\")\n",
        "print(df)\n",
        "print(\"Missing data\")\n",
        "print(df_missing)\n",
        "print(df_missing.isna().sum())\n",
        "#write a new file\n",
        "df_missing.to_csv(\"education_missing.csv\",index=False)"
      ],
      "metadata": {
        "colab": {
          "base_uri": "https://localhost:8080/"
        },
        "id": "BP1mgMNC__TZ",
        "outputId": "81e22472-3369-468e-adb1-27a52878a9ad"
      },
      "execution_count": null,
      "outputs": [
        {
          "output_type": "stream",
          "name": "stdout",
          "text": [
            "[[0.8036643  0.75203373 0.77921432]\n",
            " [0.79384429 0.53583548 0.96421279]\n",
            " [0.74129654 0.71947446 0.14549117]\n",
            " [0.91300906 0.54117707 0.49432295]\n",
            " [0.14425777 0.41721735 0.32119863]\n",
            " [0.53864491 0.16637165 0.9943148 ]\n",
            " [0.18063172 0.2652772  0.66768985]\n",
            " [0.11590502 0.95408991 0.79395502]\n",
            " [0.37747037 0.21760309 0.09759635]\n",
            " [0.7107527  0.45704411 0.1708603 ]]\n",
            "[[ True False False]\n",
            " [False False  True]\n",
            " [False False False]\n",
            " [ True False False]\n",
            " [False False False]\n",
            " [False False  True]\n",
            " [False False False]\n",
            " [False  True False]\n",
            " [False False False]\n",
            " [False False False]]\n",
            "original data\n",
            "   datasrno  workex  gmat\n",
            "0         1      21   720\n",
            "1         2     107   640\n",
            "2         3      57   740\n",
            "3         4      99   690\n",
            "4         5     208   710\n",
            "5         6     136   660\n",
            "6         7      70   660\n",
            "7         8     103   710\n",
            "8         9      79   700\n",
            "9        10      22   730\n",
            "Missing data\n",
            "   datasrno  workex   gmat\n",
            "0       NaN    21.0  720.0\n",
            "1       2.0   107.0    NaN\n",
            "2       3.0    57.0  740.0\n",
            "3       NaN    99.0  690.0\n",
            "4       5.0   208.0  710.0\n",
            "5       6.0   136.0    NaN\n",
            "6       7.0    70.0  660.0\n",
            "7       8.0     NaN  710.0\n",
            "8       9.0    79.0  700.0\n",
            "9      10.0    22.0  730.0\n",
            "datasrno    2\n",
            "workex      1\n",
            "gmat        2\n",
            "dtype: int64\n"
          ]
        }
      ]
    },
    {
      "cell_type": "markdown",
      "source": [
        "Imputation"
      ],
      "metadata": {
        "id": "rjK46KHPk_-c"
      }
    },
    {
      "cell_type": "code",
      "source": [
        "import pandas as pd\n",
        "import numpy as np\n",
        "#Load a real-world dataset\n",
        "df_missing=pd.read_csv(\"/content/education_missing.csv\")\n",
        "print(df_missing)\n",
        "#replace nan values with the mean of thecolumn\n",
        "data_mean=df_missing.fillna(df_missing.mean())\n",
        "print(\"replace nan values with the mean of thecolumn\")\n",
        "print(data_mean)\n",
        "#replace nan values with the median of the column\n",
        "data_median=df_missing.fillna(df_missing.median())\n",
        "print(data_median)\n",
        "#"
      ],
      "metadata": {
        "colab": {
          "base_uri": "https://localhost:8080/"
        },
        "id": "gBfOdEHHDqyA",
        "outputId": "71e39c63-e8c3-4670-cccc-a397be316aad"
      },
      "execution_count": null,
      "outputs": [
        {
          "output_type": "stream",
          "name": "stdout",
          "text": [
            "   datasrno  workex   gmat\n",
            "0       NaN    21.0  720.0\n",
            "1       2.0   107.0    NaN\n",
            "2       3.0    57.0  740.0\n",
            "3       NaN    99.0  690.0\n",
            "4       5.0   208.0  710.0\n",
            "5       6.0   136.0    NaN\n",
            "6       7.0    70.0  660.0\n",
            "7       8.0     NaN  710.0\n",
            "8       9.0    79.0  700.0\n",
            "9      10.0    22.0  730.0\n",
            "replace nan values with the mean of thecolumn\n",
            "   datasrno      workex   gmat\n",
            "0      6.25   21.000000  720.0\n",
            "1      2.00  107.000000  707.5\n",
            "2      3.00   57.000000  740.0\n",
            "3      6.25   99.000000  690.0\n",
            "4      5.00  208.000000  710.0\n",
            "5      6.00  136.000000  707.5\n",
            "6      7.00   70.000000  660.0\n",
            "7      8.00   88.777778  710.0\n",
            "8      9.00   79.000000  700.0\n",
            "9     10.00   22.000000  730.0\n",
            "   datasrno  workex   gmat\n",
            "0       6.5    21.0  720.0\n",
            "1       2.0   107.0  710.0\n",
            "2       3.0    57.0  740.0\n",
            "3       6.5    99.0  690.0\n",
            "4       5.0   208.0  710.0\n",
            "5       6.0   136.0  710.0\n",
            "6       7.0    70.0  660.0\n",
            "7       8.0    79.0  710.0\n",
            "8       9.0    79.0  700.0\n",
            "9      10.0    22.0  730.0\n"
          ]
        }
      ]
    },
    {
      "cell_type": "markdown",
      "source": [
        "Data Discretization"
      ],
      "metadata": {
        "id": "jlZapjAadct5"
      }
    },
    {
      "cell_type": "code",
      "source": [
        "import pandas as pd\n",
        "import numpy as np\n",
        "#Load a real-world dataset\n",
        "df=pd.read_csv(\"/education.csv\")\n",
        "df=df.iloc[0:6]\n",
        "#extract work exp col\n",
        "workex=df[\"workex\"]\n",
        "#define bin range and lebles\n",
        "bin_edges=[0,50,100,150]\n",
        "bin_names=[\"low\",\"medium\",\"high\"]\n",
        "#create new col for discretized variable\n",
        "df[\"median_exp_binned\"]=pd.cut(workex,bins=bin_edges,labels=bin_names)\n",
        "print(df.head())"
      ],
      "metadata": {
        "colab": {
          "base_uri": "https://localhost:8080/"
        },
        "id": "PO-lfiPhdY2A",
        "outputId": "ac1468fb-6fb9-445a-904c-c7d82f96f9a1"
      },
      "execution_count": 14,
      "outputs": [
        {
          "output_type": "stream",
          "name": "stdout",
          "text": [
            "   datasrno  workex  gmat median_exp_binned\n",
            "0         1      21   720               low\n",
            "1         2     107   640              high\n",
            "2         3      57   740            medium\n",
            "3         4      99   690            medium\n",
            "4         5     208   710               NaN\n"
          ]
        }
      ]
    },
    {
      "cell_type": "code",
      "source": [
        "from google.colab import drive\n",
        "drive.mount('/content/drive')"
      ],
      "metadata": {
        "id": "DIRQ5XWsgU5V"
      },
      "execution_count": null,
      "outputs": []
    },
    {
      "cell_type": "markdown",
      "source": [
        "Min-Max Scaling"
      ],
      "metadata": {
        "id": "l8lKxoZyfpUe"
      }
    },
    {
      "cell_type": "code",
      "source": [
        "import pandas as pd\n",
        "import numpy as np\n",
        "from sklearn.preprocessing import MinMaxScaler\n",
        "df=pd.read_csv(\"/education.csv\")\n",
        "df1=df.iloc[0:6]\n",
        "scalar=MinMaxScaler()\n",
        "df1_scaled=scalar.fit_transform(df1)\n",
        "print(df1)\n",
        "print(df1_scaled)"
      ],
      "metadata": {
        "id": "mcE3IsEIeEJR",
        "colab": {
          "base_uri": "https://localhost:8080/"
        },
        "outputId": "9619b34b-ffb0-4123-d4e9-3fdeb630ea15"
      },
      "execution_count": 2,
      "outputs": [
        {
          "output_type": "stream",
          "name": "stdout",
          "text": [
            "   datasrno  workex  gmat\n",
            "0         1      21   720\n",
            "1         2     107   640\n",
            "2         3      57   740\n",
            "3         4      99   690\n",
            "4         5     208   710\n",
            "5         6     136   660\n",
            "[[0.         0.         0.8       ]\n",
            " [0.2        0.45989305 0.        ]\n",
            " [0.4        0.19251337 1.        ]\n",
            " [0.6        0.4171123  0.5       ]\n",
            " [0.8        1.         0.7       ]\n",
            " [1.         0.61497326 0.2       ]]\n"
          ]
        }
      ]
    }
  ]
}